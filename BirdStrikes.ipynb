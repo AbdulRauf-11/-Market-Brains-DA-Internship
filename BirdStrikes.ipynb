{
 "cells": [
  {
   "cell_type": "code",
   "execution_count": 28,
   "id": "da95ac38-0169-4224-b302-cfd2c2f946c9",
   "metadata": {},
   "outputs": [],
   "source": [
    "import pandas as pd\n",
    "\n",
    "# Step 1: Load the data\n",
    "file_path = 'C:/Users/Abdul/Downloads/Bird_Strikes_data.csv'\n",
    "data = pd.read_csv(file_path)"
   ]
  },
  {
   "cell_type": "code",
   "execution_count": 29,
   "id": "d3d79f29-2cc8-45e9-a9f8-54f651e23367",
   "metadata": {},
   "outputs": [],
   "source": [
    "\n",
    "# Step 2: Clean column names by removing leading/trailing whitespace\n",
    "data.columns = data.columns.str.strip()"
   ]
  },
  {
   "cell_type": "code",
   "execution_count": 31,
   "id": "8744c416-8434-4415-b6ad-156872f37247",
   "metadata": {},
   "outputs": [],
   "source": [
    "# Step 3: Rename columns for better readability\n",
    "data = data.rename(columns={\n",
    "    'Record ID': 'Record_ID', 'Aircraft Type': 'Aircraft_Type', \n",
    "    'Airport Name': 'Airport_Name', 'Altitude Bin': 'Altitude_Bin',\n",
    "    'Aircraft Make/Model': 'Aircraft_Make_Model', 'Wildlife Number Struck': 'Wildlife_Number_Struck',\n",
    "    'Wildlife Number Struck Actual': 'Wildlife_Number_Struck_Actual', 'Impact to Flight': 'Impact_To_Flight',\n",
    "    'Flight Date': 'Flight_Date', 'Indicated Damage': 'Indicated_Damage', \n",
    "    'Number of Engines': 'Number_of_Engines', 'Airline Operator': 'Airline_Operator',\n",
    "    'Origin State': 'Origin_State', 'Phase of Flight': 'Phase_of_Flight',\n",
    "    'Precipitation': 'Precipitation', 'Wildlife Remains Collected': 'Wildlife_Remains_Collected',\n",
    "    'Wildlife Remains Sent': 'Wildlife_Remains_Sent', 'Remarks': 'Remarks',\n",
    "    'Wildlife Size': 'Wildlife_Size', 'Sky Condition': 'Sky_Condition', \n",
    "    'Wildlife Species': 'Wildlife_Species', 'Pilot Warned': 'Pilot_Warned', \n",
    "    'Total Cost': 'Total_Cost', 'Altitude (Feet)': 'Altitude_Feet', \n",
    "    'People Injured': 'People_Injured', 'Is Aircraft Large?': 'Is_Aircraft_Large'\n",
    "})"
   ]
  },
  {
   "cell_type": "code",
   "execution_count": 34,
   "id": "f6ae9378-4a60-47b9-a39f-3bc826b38ab7",
   "metadata": {},
   "outputs": [
    {
     "name": "stdout",
     "output_type": "stream",
     "text": [
      "Column 'Total_Cost' not found in the DataFrame.\n",
      "Columns missing for dropping NaN values: ['Wildlife_Species', 'Flight_Date']\n",
      "Data after handling missing values:\n",
      "   Record_ID Aircraft: Type                Airport: Name Altitude bin  \\\n",
      "0     202152       Airplane                 LAGUARDIA NY    > 1000 ft   \n",
      "1     208159       Airplane  DALLAS/FORT WORTH INTL ARPT    < 1000 ft   \n",
      "2     207601       Airplane            LAKEFRONT AIRPORT    < 1000 ft   \n",
      "3     215953       Airplane          SEATTLE-TACOMA INTL    < 1000 ft   \n",
      "4     219878       Airplane                 NORFOLK INTL    < 1000 ft   \n",
      "\n",
      "  Aircraft: Make/Model Wildlife: Number struck  \\\n",
      "0            B-737-400                Over 100   \n",
      "1                MD-80                Over 100   \n",
      "2                C-500                Over 100   \n",
      "3            B-737-400                Over 100   \n",
      "4         CL-RJ100/200                Over 100   \n",
      "\n",
      "   Wildlife: Number Struck Actual Effect: Impact to flight     FlightDate  \\\n",
      "0                             859         Engine Shut Down  11/23/00 0:00   \n",
      "1                             424                      NaN   7/25/01 0:00   \n",
      "2                             261                      NaN   9/14/01 0:00   \n",
      "3                             806    Precautionary Landing    9/5/02 0:00   \n",
      "4                             942                      NaN   6/23/03 0:00   \n",
      "\n",
      "  Effect: Indicated Damage  ... Remains of wildlife collected?  \\\n",
      "0            Caused damage  ...                          False   \n",
      "1            Caused damage  ...                          False   \n",
      "2                No damage  ...                          False   \n",
      "3                No damage  ...                           True   \n",
      "4                No damage  ...                          False   \n",
      "\n",
      "  Remains of wildlife sent to Smithsonian Wildlife: Size Conditions: Sky  \\\n",
      "0                                   False         Medium        No Cloud   \n",
      "1                                   False          Small      Some Cloud   \n",
      "2                                   False          Small        No Cloud   \n",
      "3                                   False          Small      Some Cloud   \n",
      "4                                   False          Small        No Cloud   \n",
      "\n",
      "       Wildlife: Species  Pilot warned of birds or wildlife?  Cost: Total $  \\\n",
      "0  Unknown bird - medium                                   N         30,736   \n",
      "1            Rock pigeon                                   Y              0   \n",
      "2      European starling                                   N              0   \n",
      "3      European starling                                   Y              0   \n",
      "4      European starling                                   N              0   \n",
      "\n",
      "  Feet above ground Number of people injured Is_Aircraft_Large  \n",
      "0             1,500                        0               Yes  \n",
      "1                 0                        0                No  \n",
      "2                50                        0                No  \n",
      "3                50                        0               Yes  \n",
      "4                50                        0                No  \n",
      "\n",
      "[5 rows x 25 columns]\n"
     ]
    }
   ],
   "source": [
    "# Step 4: Handle missing values with checks for column existence\n",
    "# Check if 'Total_Cost' exists, then fill missing values with 0\n",
    "if 'Total_Cost' in data.columns:\n",
    "    data['Total_Cost'].fillna(0, inplace=True)\n",
    "else:\n",
    "    print(\"Column 'Total_Cost' not found in the DataFrame.\")\n",
    "\n",
    "# Check if 'Wildlife_Species' and 'Flight_Date' exist, then drop rows with missing values in these columns\n",
    "missing_columns = [col for col in ['Wildlife_Species', 'Flight_Date'] if col not in data.columns]\n",
    "if not missing_columns:\n",
    "    data.dropna(subset=['Wildlife_Species', 'Flight_Date'], inplace=True)\n",
    "else:\n",
    "    print(f\"Columns missing for dropping NaN values: {missing_columns}\")\n",
    "\n",
    "# Verify the changes by displaying the first few rows after handling missing values\n",
    "print(\"Data after handling missing values:\")\n",
    "print(data.head())"
   ]
  },
  {
   "cell_type": "code",
   "execution_count": 35,
   "id": "bcd50cb7-db29-4b53-b21a-5b5a15e992f5",
   "metadata": {},
   "outputs": [],
   "source": [
    "# Step 5: Convert 'Flight_Date' to datetime\n",
    "if 'Flight_Date' in data.columns:\n",
    "    data['Flight_Date'] = pd.to_datetime(data['Flight_Date'], errors='coerce')\n",
    "    data.dropna(subset=['Flight_Date'], inplace=True)  # Drop rows with invalid date"
   ]
  },
  {
   "cell_type": "code",
   "execution_count": 36,
   "id": "db80a723-c115-4435-9fc3-f03a255b4359",
   "metadata": {},
   "outputs": [],
   "source": [
    "# Step 6: Remove duplicates\n",
    "data.drop_duplicates(inplace=True)"
   ]
  },
  {
   "cell_type": "code",
   "execution_count": 38,
   "id": "9ba3f93c-63b5-4793-abde-29ca1d6dea88",
   "metadata": {},
   "outputs": [
    {
     "name": "stdout",
     "output_type": "stream",
     "text": [
      "Column 'Flight_Date' not found in the dataset.\n"
     ]
    }
   ],
   "source": [
    "# Step 7: Add new columns or transform data as needed\n",
    "\n",
    "# Check if 'Flight_Date' exists in the DataFrame and is in datetime format\n",
    "if 'Flight_Date' in data.columns:\n",
    "    # Convert 'Flight_Date' to datetime format if it's not already\n",
    "    if not pd.api.types.is_datetime64_any_dtype(data['Flight_Date']):\n",
    "        data['Flight_Date'] = pd.to_datetime(data['Flight_Date'], errors='coerce')\n",
    "\n",
    "    # Extract year and month from 'Flight_Date' for trend analysis\n",
    "    data['Flight_Year'] = data['Flight_Date'].dt.year\n",
    "    data['Flight_Month'] = data['Flight_Date'].dt.month\n",
    "    display(data[['Flight_Year', 'Flight_Month']].head())\n",
    "else:\n",
    "    print(\"Column 'Flight_Date' not found in the dataset.\")"
   ]
  },
  {
   "cell_type": "code",
   "execution_count": 39,
   "id": "665576b6-b281-489a-9bf0-34bcf84ce82f",
   "metadata": {},
   "outputs": [
    {
     "name": "stdout",
     "output_type": "stream",
     "text": [
      "Required columns ('Wildlife_Species' or 'Total_Cost') are missing.\n"
     ]
    }
   ],
   "source": [
    "# Step 8: Data Analysis - Calculate Average Cost per Wildlife Species\n",
    "if 'Wildlife_Species' in data.columns and 'Total_Cost' in data.columns:\n",
    "    average_cost_per_species = data.groupby('Wildlife_Species')['Total_Cost'].mean().sort_values(ascending=False)\n",
    "    print(\"\\nAverage Cost per Wildlife Species:\")\n",
    "    print(average_cost_per_species.head(10))  # Display top 10 species by average cost\n",
    "else:\n",
    "    print(\"Required columns ('Wildlife_Species' or 'Total_Cost') are missing.\")"
   ]
  },
  {
   "cell_type": "code",
   "execution_count": 40,
   "id": "75a6c8e3-50c1-4836-a5aa-20d4ecabde10",
   "metadata": {},
   "outputs": [
    {
     "name": "stdout",
     "output_type": "stream",
     "text": [
      "Processed data saved to C:/Users/Abdul/Downloads/processed_Bird_Strikes_data.csv\n"
     ]
    }
   ],
   "source": [
    "# Step 9: Save cleaned and processed data to a new CSV file\n",
    "output_file_path = 'C:/Users/Abdul/Downloads/processed_Bird_Strikes_data.csv'\n",
    "data.to_csv(output_file_path, index=False)\n",
    "print(f\"Processed data saved to {output_file_path}\")"
   ]
  },
  {
   "cell_type": "code",
   "execution_count": null,
   "id": "4ccd5b68-2340-4edd-848a-752c81420960",
   "metadata": {},
   "outputs": [],
   "source": []
  }
 ],
 "metadata": {
  "kernelspec": {
   "display_name": "Python 3 (ipykernel)",
   "language": "python",
   "name": "python3"
  },
  "language_info": {
   "codemirror_mode": {
    "name": "ipython",
    "version": 3
   },
   "file_extension": ".py",
   "mimetype": "text/x-python",
   "name": "python",
   "nbconvert_exporter": "python",
   "pygments_lexer": "ipython3",
   "version": "3.13.0"
  }
 },
 "nbformat": 4,
 "nbformat_minor": 5
}
